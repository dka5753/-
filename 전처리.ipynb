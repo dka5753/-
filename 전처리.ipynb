{
 "cells": [
  {
   "cell_type": "code",
   "id": "initial_id",
   "metadata": {
    "collapsed": true,
    "ExecuteTime": {
     "end_time": "2024-05-15T11:20:37.373441Z",
     "start_time": "2024-05-15T11:20:36.780737Z"
    }
   },
   "source": [
    "import pandas as pd\n",
    "import numpy as np\n",
    "\n",
    "haseong = pd.read_csv('ha-seong-kim-27506-.csv')\n",
    "haseong.head()"
   ],
   "outputs": [
    {
     "data": {
      "text/plain": [
       "        Date   Team    Opp     BO    Pos  divider     PA      H    2B   3B  \\\n",
       "0      Total  - - -  - - -  - - -  - - -      NaN  626.0  140.0  23.0  0.0   \n",
       "1  2023.10.1    SDP   @CHW      2  2B-SS      NaN    5.0    0.0   0.0  0.0   \n",
       "2  2023.9.30    SDP   @CHW      2     2B      NaN    5.0    4.0   1.0  0.0   \n",
       "3  2023.9.29    SDP   @CHW      5     2B      NaN    5.0    0.0   0.0  0.0   \n",
       "4  2023.9.27    SDP   @SFG      5     2B      NaN    5.0    0.0   0.0  0.0   \n",
       "\n",
       "   ...  O-Contact%  Z-Contact%  Contact%   Zone%  F-Strike%  SwStr% Events  \\\n",
       "0  ...      76.30%      88.20%    84.30%  45.50%     57.70%   6.00%  424.0   \n",
       "1  ...      75.00%      80.00%    77.80%  44.40%     40.00%  11.10%    5.0   \n",
       "2  ...     100.00%     100.00%   100.00%  45.80%     40.00%   0.00%    5.0   \n",
       "3  ...       0.00%      83.30%    71.40%  34.60%     40.00%   7.70%    2.0   \n",
       "4  ...     100.00%      71.40%    83.30%  52.20%     60.00%   8.70%    4.0   \n",
       "\n",
       "   maxEV  HardHit  HardHit%  \n",
       "0  108.5    111.0    26.20%  \n",
       "1   92.2      0.0     0.00%  \n",
       "2   95.6      1.0    20.00%  \n",
       "3   85.2      0.0     0.00%  \n",
       "4   91.1      0.0     0.00%  \n",
       "\n",
       "[5 rows x 120 columns]"
      ],
      "text/html": [
       "<div>\n",
       "<style scoped>\n",
       "    .dataframe tbody tr th:only-of-type {\n",
       "        vertical-align: middle;\n",
       "    }\n",
       "\n",
       "    .dataframe tbody tr th {\n",
       "        vertical-align: top;\n",
       "    }\n",
       "\n",
       "    .dataframe thead th {\n",
       "        text-align: right;\n",
       "    }\n",
       "</style>\n",
       "<table border=\"1\" class=\"dataframe\">\n",
       "  <thead>\n",
       "    <tr style=\"text-align: right;\">\n",
       "      <th></th>\n",
       "      <th>Date</th>\n",
       "      <th>Team</th>\n",
       "      <th>Opp</th>\n",
       "      <th>BO</th>\n",
       "      <th>Pos</th>\n",
       "      <th>divider</th>\n",
       "      <th>PA</th>\n",
       "      <th>H</th>\n",
       "      <th>2B</th>\n",
       "      <th>3B</th>\n",
       "      <th>...</th>\n",
       "      <th>O-Contact%</th>\n",
       "      <th>Z-Contact%</th>\n",
       "      <th>Contact%</th>\n",
       "      <th>Zone%</th>\n",
       "      <th>F-Strike%</th>\n",
       "      <th>SwStr%</th>\n",
       "      <th>Events</th>\n",
       "      <th>maxEV</th>\n",
       "      <th>HardHit</th>\n",
       "      <th>HardHit%</th>\n",
       "    </tr>\n",
       "  </thead>\n",
       "  <tbody>\n",
       "    <tr>\n",
       "      <th>0</th>\n",
       "      <td>Total</td>\n",
       "      <td>- - -</td>\n",
       "      <td>- - -</td>\n",
       "      <td>- - -</td>\n",
       "      <td>- - -</td>\n",
       "      <td>NaN</td>\n",
       "      <td>626.0</td>\n",
       "      <td>140.0</td>\n",
       "      <td>23.0</td>\n",
       "      <td>0.0</td>\n",
       "      <td>...</td>\n",
       "      <td>76.30%</td>\n",
       "      <td>88.20%</td>\n",
       "      <td>84.30%</td>\n",
       "      <td>45.50%</td>\n",
       "      <td>57.70%</td>\n",
       "      <td>6.00%</td>\n",
       "      <td>424.0</td>\n",
       "      <td>108.5</td>\n",
       "      <td>111.0</td>\n",
       "      <td>26.20%</td>\n",
       "    </tr>\n",
       "    <tr>\n",
       "      <th>1</th>\n",
       "      <td>2023.10.1</td>\n",
       "      <td>SDP</td>\n",
       "      <td>@CHW</td>\n",
       "      <td>2</td>\n",
       "      <td>2B-SS</td>\n",
       "      <td>NaN</td>\n",
       "      <td>5.0</td>\n",
       "      <td>0.0</td>\n",
       "      <td>0.0</td>\n",
       "      <td>0.0</td>\n",
       "      <td>...</td>\n",
       "      <td>75.00%</td>\n",
       "      <td>80.00%</td>\n",
       "      <td>77.80%</td>\n",
       "      <td>44.40%</td>\n",
       "      <td>40.00%</td>\n",
       "      <td>11.10%</td>\n",
       "      <td>5.0</td>\n",
       "      <td>92.2</td>\n",
       "      <td>0.0</td>\n",
       "      <td>0.00%</td>\n",
       "    </tr>\n",
       "    <tr>\n",
       "      <th>2</th>\n",
       "      <td>2023.9.30</td>\n",
       "      <td>SDP</td>\n",
       "      <td>@CHW</td>\n",
       "      <td>2</td>\n",
       "      <td>2B</td>\n",
       "      <td>NaN</td>\n",
       "      <td>5.0</td>\n",
       "      <td>4.0</td>\n",
       "      <td>1.0</td>\n",
       "      <td>0.0</td>\n",
       "      <td>...</td>\n",
       "      <td>100.00%</td>\n",
       "      <td>100.00%</td>\n",
       "      <td>100.00%</td>\n",
       "      <td>45.80%</td>\n",
       "      <td>40.00%</td>\n",
       "      <td>0.00%</td>\n",
       "      <td>5.0</td>\n",
       "      <td>95.6</td>\n",
       "      <td>1.0</td>\n",
       "      <td>20.00%</td>\n",
       "    </tr>\n",
       "    <tr>\n",
       "      <th>3</th>\n",
       "      <td>2023.9.29</td>\n",
       "      <td>SDP</td>\n",
       "      <td>@CHW</td>\n",
       "      <td>5</td>\n",
       "      <td>2B</td>\n",
       "      <td>NaN</td>\n",
       "      <td>5.0</td>\n",
       "      <td>0.0</td>\n",
       "      <td>0.0</td>\n",
       "      <td>0.0</td>\n",
       "      <td>...</td>\n",
       "      <td>0.00%</td>\n",
       "      <td>83.30%</td>\n",
       "      <td>71.40%</td>\n",
       "      <td>34.60%</td>\n",
       "      <td>40.00%</td>\n",
       "      <td>7.70%</td>\n",
       "      <td>2.0</td>\n",
       "      <td>85.2</td>\n",
       "      <td>0.0</td>\n",
       "      <td>0.00%</td>\n",
       "    </tr>\n",
       "    <tr>\n",
       "      <th>4</th>\n",
       "      <td>2023.9.27</td>\n",
       "      <td>SDP</td>\n",
       "      <td>@SFG</td>\n",
       "      <td>5</td>\n",
       "      <td>2B</td>\n",
       "      <td>NaN</td>\n",
       "      <td>5.0</td>\n",
       "      <td>0.0</td>\n",
       "      <td>0.0</td>\n",
       "      <td>0.0</td>\n",
       "      <td>...</td>\n",
       "      <td>100.00%</td>\n",
       "      <td>71.40%</td>\n",
       "      <td>83.30%</td>\n",
       "      <td>52.20%</td>\n",
       "      <td>60.00%</td>\n",
       "      <td>8.70%</td>\n",
       "      <td>4.0</td>\n",
       "      <td>91.1</td>\n",
       "      <td>0.0</td>\n",
       "      <td>0.00%</td>\n",
       "    </tr>\n",
       "  </tbody>\n",
       "</table>\n",
       "<p>5 rows × 120 columns</p>\n",
       "</div>"
      ]
     },
     "execution_count": 1,
     "metadata": {},
     "output_type": "execute_result"
    }
   ],
   "execution_count": 1
  },
  {
   "metadata": {
    "ExecuteTime": {
     "end_time": "2024-05-15T11:20:37.377120Z",
     "start_time": "2024-05-15T11:20:37.374836Z"
    }
   },
   "cell_type": "code",
   "source": "haseong1 = haseong.copy()",
   "id": "b8144779c47bad5a",
   "outputs": [],
   "execution_count": 2
  },
  {
   "metadata": {
    "ExecuteTime": {
     "end_time": "2024-05-15T11:20:37.386533Z",
     "start_time": "2024-05-15T11:20:37.377725Z"
    }
   },
   "cell_type": "code",
   "source": [
    "haseong1 =  haseong1.fillna(0)\n",
    "haseong1 = haseong1.drop(['divider'], axis=1)"
   ],
   "id": "57749559c72d4a0f",
   "outputs": [],
   "execution_count": 3
  },
  {
   "metadata": {
    "ExecuteTime": {
     "end_time": "2024-05-15T11:20:37.389827Z",
     "start_time": "2024-05-15T11:20:37.387811Z"
    }
   },
   "cell_type": "code",
   "source": "haseong1['HR1'] = np.where(haseong1['HR'] > 0, 1, 0)",
   "id": "673eab85a82775aa",
   "outputs": [],
   "execution_count": 4
  },
  {
   "metadata": {
    "ExecuteTime": {
     "end_time": "2024-05-15T11:20:37.397304Z",
     "start_time": "2024-05-15T11:20:37.390340Z"
    }
   },
   "cell_type": "code",
   "source": [
    "heseong_total = haseong1.iloc[1]\n",
    "pattern_length = 154\n",
    "haseong2 = haseong1.iloc[:pattern_length]\n",
    "haseong2 = haseong2.drop(haseong2.index[[0,-1]])\n",
    "print(haseong2)\n"
   ],
   "id": "ea76eb048480e2c4",
   "outputs": [
    {
     "name": "stdout",
     "output_type": "stream",
     "text": [
      "          Date Team   Opp BO    Pos   PA    H   2B   3B   HR  ...  Z-Contact%  \\\n",
      "1    2023.10.1  SDP  @CHW  2  2B-SS  5.0  0.0  0.0  0.0  0.0  ...      80.00%   \n",
      "2    2023.9.30  SDP  @CHW  2     2B  5.0  4.0  1.0  0.0  0.0  ...     100.00%   \n",
      "3    2023.9.29  SDP  @CHW  5     2B  5.0  0.0  0.0  0.0  0.0  ...      83.30%   \n",
      "4    2023.9.27  SDP  @SFG  5     2B  5.0  0.0  0.0  0.0  0.0  ...      71.40%   \n",
      "5    2023.9.26  SDP  @SFG  2     2B  5.0  0.0  0.0  0.0  0.0  ...      20.00%   \n",
      "..         ...  ...   ... ..    ...  ...  ...  ...  ...  ...  ...         ...   \n",
      "148   2023.4.4  SDP   ARI  9     3B  4.0  0.0  0.0  0.0  0.0  ...      40.00%   \n",
      "149   2023.4.3  SDP   ARI  9     2B  4.0  1.0  0.0  0.0  1.0  ...     100.00%   \n",
      "150   2023.4.2  SDP   COL  6     2B  3.0  0.0  0.0  0.0  0.0  ...     100.00%   \n",
      "151  2023.3.31  SDP   COL  7     2B  3.0  3.0  2.0  0.0  0.0  ...     100.00%   \n",
      "152  2023.3.30  SDP   COL  8     2B  4.0  1.0  0.0  0.0  0.0  ...      80.00%   \n",
      "\n",
      "     Contact%   Zone%  F-Strike%  SwStr% Events  maxEV  HardHit  HardHit%  HR1  \n",
      "1      77.80%  44.40%     40.00%  11.10%    5.0   92.2      0.0     0.00%    0  \n",
      "2     100.00%  45.80%     40.00%   0.00%    5.0   95.6      1.0    20.00%    0  \n",
      "3      71.40%  34.60%     40.00%   7.70%    2.0   85.2      0.0     0.00%    0  \n",
      "4      83.30%  52.20%     60.00%   8.70%    4.0   91.1      0.0     0.00%    0  \n",
      "5      50.00%  55.60%     80.00%  22.20%    2.0   70.4      0.0     0.00%    0  \n",
      "..        ...     ...        ...     ...    ...    ...      ...       ...  ...  \n",
      "148    40.00%  58.80%     75.00%  17.60%    1.0  105.0      1.0   100.00%    0  \n",
      "149   100.00%  50.00%     25.00%   0.00%    4.0  105.2      1.0    25.00%    1  \n",
      "150    66.70%  38.50%    100.00%   7.70%    1.0   87.5      0.0     0.00%    0  \n",
      "151   100.00%  55.60%          0   0.00%    3.0   94.8      0.0     0.00%    0  \n",
      "152    83.30%  57.10%     50.00%   7.10%    4.0   97.2      1.0    25.00%    0  \n",
      "\n",
      "[152 rows x 120 columns]\n"
     ]
    }
   ],
   "execution_count": 5
  },
  {
   "metadata": {
    "ExecuteTime": {
     "end_time": "2024-05-15T11:20:37.401283Z",
     "start_time": "2024-05-15T11:20:37.398087Z"
    }
   },
   "cell_type": "code",
   "source": "print(haseong2.columns)",
   "id": "bd3cdf4b4cd90b1f",
   "outputs": [
    {
     "name": "stdout",
     "output_type": "stream",
     "text": [
      "Index(['Date', 'Team', 'Opp', 'BO', 'Pos', 'PA', 'H', '2B', '3B', 'HR',\n",
      "       ...\n",
      "       'Z-Contact%', 'Contact%', 'Zone%', 'F-Strike%', 'SwStr%', 'Events',\n",
      "       'maxEV', 'HardHit', 'HardHit%', 'HR1'],\n",
      "      dtype='object', length=120)\n"
     ]
    }
   ],
   "execution_count": 6
  },
  {
   "metadata": {
    "ExecuteTime": {
     "end_time": "2024-05-15T11:20:37.406742Z",
     "start_time": "2024-05-15T11:20:37.402013Z"
    }
   },
   "cell_type": "code",
   "source": [
    "haseong2['Date'] = pd.to_datetime(haseong2['Date'])\n",
    "haseong2 = haseong2.sort_values(by=['Date'])\n",
    "haseong2['Opp'] = haseong2['Opp'].str.replace('@','')\n",
    "haseong2.rename(columns={'#NAME?.1':'WPA_PL', '#NAME?':'WPA_MI' }, inplace=True)\n"
   ],
   "id": "abfa9d583c6e3012",
   "outputs": [],
   "execution_count": 7
  },
  {
   "metadata": {
    "ExecuteTime": {
     "end_time": "2024-05-15T11:20:37.909423Z",
     "start_time": "2024-05-15T11:20:37.407306Z"
    }
   },
   "cell_type": "code",
   "source": [
    "import pandas as pd\n",
    "from sklearn.metrics import mean_squared_error, accuracy_score"
   ],
   "id": "7200a307f2f54f56",
   "outputs": [],
   "execution_count": 8
  },
  {
   "metadata": {
    "ExecuteTime": {
     "end_time": "2024-05-15T11:20:37.923800Z",
     "start_time": "2024-05-15T11:20:37.910086Z"
    }
   },
   "cell_type": "code",
   "source": [
    "from sklearn.model_selection import train_test_split\n",
    "from sklearn.preprocessing import LabelEncoder\n",
    "from sklearn.preprocessing import OneHotEncoder\n",
    "from sklearn.preprocessing import StandardScaler\n",
    "haseong2= haseong2.fillna(0)\n",
    "haseong2.head()"
   ],
   "id": "247d881f7589bade",
   "outputs": [
    {
     "data": {
      "text/plain": [
       "          Date Team  Opp BO Pos   PA    H   2B   3B   HR  ...  Z-Contact%  \\\n",
       "152 2023-03-30  SDP  COL  8  2B  4.0  1.0  0.0  0.0  0.0  ...      80.00%   \n",
       "151 2023-03-31  SDP  COL  7  2B  3.0  3.0  2.0  0.0  0.0  ...     100.00%   \n",
       "150 2023-04-02  SDP  COL  6  2B  3.0  0.0  0.0  0.0  0.0  ...     100.00%   \n",
       "149 2023-04-03  SDP  ARI  9  2B  4.0  1.0  0.0  0.0  1.0  ...     100.00%   \n",
       "148 2023-04-04  SDP  ARI  9  3B  4.0  0.0  0.0  0.0  0.0  ...      40.00%   \n",
       "\n",
       "     Contact%   Zone%  F-Strike%  SwStr% Events  maxEV  HardHit  HardHit%  HR1  \n",
       "152    83.30%  57.10%     50.00%   7.10%    4.0   97.2      1.0    25.00%    0  \n",
       "151   100.00%  55.60%          0   0.00%    3.0   94.8      0.0     0.00%    0  \n",
       "150    66.70%  38.50%    100.00%   7.70%    1.0   87.5      0.0     0.00%    0  \n",
       "149   100.00%  50.00%     25.00%   0.00%    4.0  105.2      1.0    25.00%    1  \n",
       "148    40.00%  58.80%     75.00%  17.60%    1.0  105.0      1.0   100.00%    0  \n",
       "\n",
       "[5 rows x 120 columns]"
      ],
      "text/html": [
       "<div>\n",
       "<style scoped>\n",
       "    .dataframe tbody tr th:only-of-type {\n",
       "        vertical-align: middle;\n",
       "    }\n",
       "\n",
       "    .dataframe tbody tr th {\n",
       "        vertical-align: top;\n",
       "    }\n",
       "\n",
       "    .dataframe thead th {\n",
       "        text-align: right;\n",
       "    }\n",
       "</style>\n",
       "<table border=\"1\" class=\"dataframe\">\n",
       "  <thead>\n",
       "    <tr style=\"text-align: right;\">\n",
       "      <th></th>\n",
       "      <th>Date</th>\n",
       "      <th>Team</th>\n",
       "      <th>Opp</th>\n",
       "      <th>BO</th>\n",
       "      <th>Pos</th>\n",
       "      <th>PA</th>\n",
       "      <th>H</th>\n",
       "      <th>2B</th>\n",
       "      <th>3B</th>\n",
       "      <th>HR</th>\n",
       "      <th>...</th>\n",
       "      <th>Z-Contact%</th>\n",
       "      <th>Contact%</th>\n",
       "      <th>Zone%</th>\n",
       "      <th>F-Strike%</th>\n",
       "      <th>SwStr%</th>\n",
       "      <th>Events</th>\n",
       "      <th>maxEV</th>\n",
       "      <th>HardHit</th>\n",
       "      <th>HardHit%</th>\n",
       "      <th>HR1</th>\n",
       "    </tr>\n",
       "  </thead>\n",
       "  <tbody>\n",
       "    <tr>\n",
       "      <th>152</th>\n",
       "      <td>2023-03-30</td>\n",
       "      <td>SDP</td>\n",
       "      <td>COL</td>\n",
       "      <td>8</td>\n",
       "      <td>2B</td>\n",
       "      <td>4.0</td>\n",
       "      <td>1.0</td>\n",
       "      <td>0.0</td>\n",
       "      <td>0.0</td>\n",
       "      <td>0.0</td>\n",
       "      <td>...</td>\n",
       "      <td>80.00%</td>\n",
       "      <td>83.30%</td>\n",
       "      <td>57.10%</td>\n",
       "      <td>50.00%</td>\n",
       "      <td>7.10%</td>\n",
       "      <td>4.0</td>\n",
       "      <td>97.2</td>\n",
       "      <td>1.0</td>\n",
       "      <td>25.00%</td>\n",
       "      <td>0</td>\n",
       "    </tr>\n",
       "    <tr>\n",
       "      <th>151</th>\n",
       "      <td>2023-03-31</td>\n",
       "      <td>SDP</td>\n",
       "      <td>COL</td>\n",
       "      <td>7</td>\n",
       "      <td>2B</td>\n",
       "      <td>3.0</td>\n",
       "      <td>3.0</td>\n",
       "      <td>2.0</td>\n",
       "      <td>0.0</td>\n",
       "      <td>0.0</td>\n",
       "      <td>...</td>\n",
       "      <td>100.00%</td>\n",
       "      <td>100.00%</td>\n",
       "      <td>55.60%</td>\n",
       "      <td>0</td>\n",
       "      <td>0.00%</td>\n",
       "      <td>3.0</td>\n",
       "      <td>94.8</td>\n",
       "      <td>0.0</td>\n",
       "      <td>0.00%</td>\n",
       "      <td>0</td>\n",
       "    </tr>\n",
       "    <tr>\n",
       "      <th>150</th>\n",
       "      <td>2023-04-02</td>\n",
       "      <td>SDP</td>\n",
       "      <td>COL</td>\n",
       "      <td>6</td>\n",
       "      <td>2B</td>\n",
       "      <td>3.0</td>\n",
       "      <td>0.0</td>\n",
       "      <td>0.0</td>\n",
       "      <td>0.0</td>\n",
       "      <td>0.0</td>\n",
       "      <td>...</td>\n",
       "      <td>100.00%</td>\n",
       "      <td>66.70%</td>\n",
       "      <td>38.50%</td>\n",
       "      <td>100.00%</td>\n",
       "      <td>7.70%</td>\n",
       "      <td>1.0</td>\n",
       "      <td>87.5</td>\n",
       "      <td>0.0</td>\n",
       "      <td>0.00%</td>\n",
       "      <td>0</td>\n",
       "    </tr>\n",
       "    <tr>\n",
       "      <th>149</th>\n",
       "      <td>2023-04-03</td>\n",
       "      <td>SDP</td>\n",
       "      <td>ARI</td>\n",
       "      <td>9</td>\n",
       "      <td>2B</td>\n",
       "      <td>4.0</td>\n",
       "      <td>1.0</td>\n",
       "      <td>0.0</td>\n",
       "      <td>0.0</td>\n",
       "      <td>1.0</td>\n",
       "      <td>...</td>\n",
       "      <td>100.00%</td>\n",
       "      <td>100.00%</td>\n",
       "      <td>50.00%</td>\n",
       "      <td>25.00%</td>\n",
       "      <td>0.00%</td>\n",
       "      <td>4.0</td>\n",
       "      <td>105.2</td>\n",
       "      <td>1.0</td>\n",
       "      <td>25.00%</td>\n",
       "      <td>1</td>\n",
       "    </tr>\n",
       "    <tr>\n",
       "      <th>148</th>\n",
       "      <td>2023-04-04</td>\n",
       "      <td>SDP</td>\n",
       "      <td>ARI</td>\n",
       "      <td>9</td>\n",
       "      <td>3B</td>\n",
       "      <td>4.0</td>\n",
       "      <td>0.0</td>\n",
       "      <td>0.0</td>\n",
       "      <td>0.0</td>\n",
       "      <td>0.0</td>\n",
       "      <td>...</td>\n",
       "      <td>40.00%</td>\n",
       "      <td>40.00%</td>\n",
       "      <td>58.80%</td>\n",
       "      <td>75.00%</td>\n",
       "      <td>17.60%</td>\n",
       "      <td>1.0</td>\n",
       "      <td>105.0</td>\n",
       "      <td>1.0</td>\n",
       "      <td>100.00%</td>\n",
       "      <td>0</td>\n",
       "    </tr>\n",
       "  </tbody>\n",
       "</table>\n",
       "<p>5 rows × 120 columns</p>\n",
       "</div>"
      ]
     },
     "execution_count": 9,
     "metadata": {},
     "output_type": "execute_result"
    }
   ],
   "execution_count": 9
  },
  {
   "metadata": {
    "ExecuteTime": {
     "end_time": "2024-05-15T11:20:37.933473Z",
     "start_time": "2024-05-15T11:20:37.925881Z"
    }
   },
   "cell_type": "code",
   "source": [
    "import pandas as pd\n",
    "from sklearn.preprocessing import StandardScaler, LabelEncoder\n",
    "\n",
    "\n",
    "\n",
    "# 열 이름 리스트 생성\n",
    "columns_list = haseong2.columns.tolist()\n",
    "\n",
    "# 'FBv'부터 'wKN/C'까지의 열 추출\n",
    "start_col = \"FBv\"\n",
    "end_col = \"wKN/C\"\n",
    "start_index = columns_list.index(start_col)\n",
    "end_index = columns_list.index(end_col) + 1  # 슬라이싱의 마지막 인덱스를 포함하기 위해 +1\n",
    "\n",
    "# 특정 열 범위 추출\n",
    "selected_columns = columns_list[start_index:end_index]\n",
    "data_to_transform = haseong2[selected_columns].copy()  # 안전한 복사본 생성\n",
    "\n",
    "# 퍼센트 값을 숫자로 변환\n",
    "for col in data_to_transform.columns:\n",
    "    if data_to_transform[col].dtype == object:  # 퍼센트 값을 가진 열만 변환\n",
    "        data_to_transform[col] = data_to_transform[col].str.rstrip('%').astype(float)\n",
    "\n",
    "# 데이터 표준화 (정규화)\n",
    "scaler = StandardScaler()\n",
    "o1 = scaler.fit_transform(data_to_transform)\n",
    "\n",
    "# Opp 열 인코딩\n",
    "le = LabelEncoder()\n",
    "Opp1 = le.fit_transform(haseong2['Opp'])\n",
    "haseong2['Opp1'] = Opp1\n",
    "\n",
    "\n",
    "# Opp1을 포함하도록 X 데이터 확장\n",
    "X = pd.DataFrame(o1, columns=selected_columns)\n",
    "X['Opp1'] = Opp1\n",
    "X.fillna(0, inplace=True)\n",
    "# 목표 변수 설정\n",
    "y = haseong2['HR1']\n",
    "\n",
    "X_train, X_test, y_train, y_test = train_test_split(X, y, test_size=0.2, random_state=42)\n",
    "\n",
    "print(X_train.shape, y_train.shape)"
   ],
   "id": "a011a5b2340d7c03",
   "outputs": [
    {
     "name": "stdout",
     "output_type": "stream",
     "text": [
      "(121, 29) (121,)\n"
     ]
    }
   ],
   "execution_count": 10
  },
  {
   "metadata": {
    "ExecuteTime": {
     "end_time": "2024-05-15T11:20:37.969836Z",
     "start_time": "2024-05-15T11:20:37.934093Z"
    }
   },
   "cell_type": "code",
   "source": "from sklearn.linear_model import LinearRegression",
   "id": "f6f95424fa359913",
   "outputs": [],
   "execution_count": 11
  },
  {
   "metadata": {
    "ExecuteTime": {
     "end_time": "2024-05-15T11:20:37.976208Z",
     "start_time": "2024-05-15T11:20:37.970662Z"
    }
   },
   "cell_type": "code",
   "source": [
    "linear_reg = LinearRegression()\n",
    "linear_reg.fit(X_train, y_train)  # 모델 훈련\n",
    "y_pred_lin_reg = linear_reg.predict(X_test)  # 예측\n",
    "mse_lin_reg = mean_squared_error(y_test, y_pred_lin_reg)  # MSE 계산\n",
    "print(f\"Linear Regression MSE: {mse_lin_reg}\")"
   ],
   "id": "6bdaada29e48e442",
   "outputs": [
    {
     "name": "stdout",
     "output_type": "stream",
     "text": [
      "Linear Regression MSE: 0.038186541755557225\n"
     ]
    }
   ],
   "execution_count": 12
  },
  {
   "metadata": {
    "ExecuteTime": {
     "end_time": "2024-05-15T11:20:37.978246Z",
     "start_time": "2024-05-15T11:20:37.976735Z"
    }
   },
   "cell_type": "code",
   "source": "from sklearn.svm import SVC",
   "id": "42c92ecbad204c3b",
   "outputs": [],
   "execution_count": 13
  },
  {
   "metadata": {
    "ExecuteTime": {
     "end_time": "2024-05-15T11:20:37.983857Z",
     "start_time": "2024-05-15T11:20:37.978888Z"
    }
   },
   "cell_type": "code",
   "source": [
    "svm_model = SVC(kernel='linear', random_state=42)\n",
    "svm_model.fit(X_train, y_train)  # 계산 비용 때문에 일부 데이터 사용\n",
    "y_pred_svm = svm_model.predict(X_test)  # 예측\n",
    "accuracy_svm = (y_pred_svm == y_test).mean()  # 정확도 계산\n",
    "print(f\"SVM Accuracy: {accuracy_svm}\")"
   ],
   "id": "c0f5093e73593b75",
   "outputs": [
    {
     "name": "stdout",
     "output_type": "stream",
     "text": [
      "SVM Accuracy: 1.0\n"
     ]
    }
   ],
   "execution_count": 14
  },
  {
   "metadata": {
    "ExecuteTime": {
     "end_time": "2024-05-15T11:20:38.017025Z",
     "start_time": "2024-05-15T11:20:37.984401Z"
    }
   },
   "cell_type": "code",
   "source": "from sklearn.tree import DecisionTreeClassifier",
   "id": "777528f72dc95f2d",
   "outputs": [],
   "execution_count": 15
  },
  {
   "metadata": {
    "ExecuteTime": {
     "end_time": "2024-05-15T11:20:38.022853Z",
     "start_time": "2024-05-15T11:20:38.017580Z"
    }
   },
   "cell_type": "code",
   "source": [
    "decision_tree = DecisionTreeClassifier(max_depth=5, random_state=42)\n",
    "decision_tree.fit(X_train, y_train)  # 모델 훈련\n",
    "y_pred_dt = decision_tree.predict(X_test)  # 예측\n",
    "accuracy_dt = accuracy_score(y_test, y_pred_dt)  # 정확도 계산\n",
    "print(f\"Decision Tree Accuracy: {accuracy_dt}\")"
   ],
   "id": "40765035506fc1ab",
   "outputs": [
    {
     "name": "stdout",
     "output_type": "stream",
     "text": [
      "Decision Tree Accuracy: 1.0\n"
     ]
    }
   ],
   "execution_count": 16
  },
  {
   "metadata": {
    "ExecuteTime": {
     "end_time": "2024-05-15T11:20:38.489825Z",
     "start_time": "2024-05-15T11:20:38.023379Z"
    }
   },
   "cell_type": "code",
   "source": "from lightgbm import LGBMClassifier",
   "id": "4d89e790e7c32487",
   "outputs": [],
   "execution_count": 17
  },
  {
   "metadata": {
    "ExecuteTime": {
     "end_time": "2024-05-15T11:20:38.491772Z",
     "start_time": "2024-05-15T11:20:38.490501Z"
    }
   },
   "cell_type": "code",
   "source": [
    "#lgbm_model = LGBMClassifier(num_leaves=31, max_depth=-1, random_state=42)\n",
    "#lgbm_model.fit(X_train, y_train, eval_set=[(X_test, y_test)])\n",
    "#y_pred_lgbm = lgbm_model.predict(X_test)\n",
    "#accuracy_lgbm = accuracy_score(y_test, y_pred_lgbm)\n",
    "#print(f\"LightGBM Accuracy: {accuracy_lgbm}\")"
   ],
   "id": "9ebe08ccc1cb1c98",
   "outputs": [],
   "execution_count": 18
  },
  {
   "metadata": {
    "ExecuteTime": {
     "end_time": "2024-05-15T11:20:38.493914Z",
     "start_time": "2024-05-15T11:20:38.492225Z"
    }
   },
   "cell_type": "code",
   "source": [
    "print(X_train.shape, y_train.shape)\n",
    "print(X_test.shape, y_test.shape)"
   ],
   "id": "19cab0d65be8dff8",
   "outputs": [
    {
     "name": "stdout",
     "output_type": "stream",
     "text": [
      "(121, 29) (121,)\n",
      "(31, 29) (31,)\n"
     ]
    }
   ],
   "execution_count": 19
  },
  {
   "metadata": {
    "ExecuteTime": {
     "start_time": "2024-05-15T11:20:38.494473Z"
    }
   },
   "cell_type": "code",
   "source": [
    "from lightgbm import LGBMClassifier\n",
    "from lightgbm import early_stopping\n",
    "from sklearn.metrics import accuracy_score\n",
    "import numpy as np\n",
    "\n",
    "# Assuming X_train, X_test, y_train, y_test are already defined\n",
    "\n",
    "# Check for NaN or infinite values in the datasets\n",
    "assert not np.any(np.isnan(X_train)), \"X_train contains NaN values\"\n",
    "assert not np.any(np.isnan(X_test)), \"X_test contains NaN values\"\n",
    "assert not np.any(np.isnan(y_train)), \"y_train contains NaN values\"\n",
    "assert not np.any(np.isnan(y_test)), \"y_test contains NaN values\"\n",
    "assert not np.any(np.isinf(X_train)), \"X_train contains infinite values\"\n",
    "assert not np.any(np.isinf(X_test)), \"X_test contains infinite values\"\n",
    "assert not np.any(np.isinf(y_train)), \"y_train contains infinite values\"\n",
    "assert not np.any(np.isinf(y_test)), \"y_test contains infinite values\"\n",
    "\n",
    "# Define the LightGBM model\n",
    "lgbm_model = LGBMClassifier(num_leaves=31, max_depth=-1, random_state=42)\n",
    "\n",
    "# Fit the model with early stopping\n",
    "lgbm_model.fit(\n",
    "    X_train, y_train,\n",
    "    eval_set=[(X_test, y_test)],\n",
    "    eval_metric='logloss',\n",
    "    callbacks=[early_stopping(stopping_rounds=10, first_metric_only=True, verbose=True)]\n",
    ")\n",
    "\n",
    "# Predict on the test set\n",
    "y_pred_lgbm = lgbm_model.predict(X_test)\n",
    "\n",
    "# Calculate accuracy\n",
    "accuracy_lgbm = accuracy_score(y_test, y_pred_lgbm)\n",
    "print(f\"LightGBM Accuracy: {accuracy_lgbm}\")\n"
   ],
   "id": "e11530844a6f54c5",
   "outputs": [],
   "execution_count": null
  },
  {
   "metadata": {},
   "cell_type": "code",
   "source": "",
   "id": "ed582ccd5c99d38",
   "outputs": [],
   "execution_count": null
  }
 ],
 "metadata": {
  "kernelspec": {
   "display_name": "Python 3",
   "language": "python",
   "name": "python3"
  },
  "language_info": {
   "codemirror_mode": {
    "name": "ipython",
    "version": 2
   },
   "file_extension": ".py",
   "mimetype": "text/x-python",
   "name": "python",
   "nbconvert_exporter": "python",
   "pygments_lexer": "ipython2",
   "version": "2.7.6"
  }
 },
 "nbformat": 4,
 "nbformat_minor": 5
}
